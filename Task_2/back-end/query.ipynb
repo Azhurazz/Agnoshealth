{
 "cells": [
  {
   "cell_type": "code",
   "execution_count": 8,
   "id": "ffc524d5",
   "metadata": {},
   "outputs": [
    {
     "name": "stdout",
     "output_type": "stream",
     "text": [
      "(1, 'General', 'ทั่วไป', 'กระแทก')\n",
      "(2, 'General', 'ทั่วไป', 'กลืนติด')\n",
      "(3, 'General', 'ทั่วไป', 'กลืนลำบาก')\n",
      "(4, 'General', 'ทั่วไป', 'กลืนเจ็บ')\n",
      "(5, 'General', 'ทั่วไป', 'คัน')\n",
      "(6, 'General', 'ทั่วไป', 'ง่วงตลอดเวลา')\n",
      "(7, 'General', 'ทั่วไป', 'จาม')\n",
      "(8, 'General', 'ทั่วไป', 'จามบ่อย')\n",
      "(9, 'General', 'ทั่วไป', 'จุดเลือดออก')\n",
      "(10, 'General', 'ทั่วไป', 'จ้ำเลือด')\n",
      "(11, 'General', 'ทั่วไป', 'ตกขาวผิดปกติ')\n",
      "(12, 'General', 'ทั่วไป', 'ตัวร้อน')\n",
      "(13, 'General', 'ทั่วไป', 'ทำร้ายตัวเอง')\n",
      "(14, 'General', 'ทั่วไป', 'นอนไม่หลับ')\n",
      "(15, 'General', 'ทั่วไป', 'บาดเจ็บ')\n",
      "(16, 'General', 'ทั่วไป', 'บ้านหมุน')\n",
      "(17, 'General', 'ทั่วไป', 'ผมร่วง')\n",
      "(18, 'General', 'ทั่วไป', 'ฝ้าขาวที่ลิ้น')\n",
      "(19, 'General', 'ทั่วไป', 'ฟกช้ำ')\n",
      "(20, 'General', 'ทั่วไป', 'มองเห็นจุดดำ เงาดำ')\n",
      "(21, 'General', 'ทั่วไป', 'มองเห็นภาพซ้อน')\n",
      "(22, 'General', 'ทั่วไป', 'มึนศีรษะ')\n",
      "(23, 'General', 'ทั่วไป', 'มึนศีรษะวูบ หมดสติชั่วขณะ')\n",
      "(24, 'General', 'ทั่วไป', 'มืออ่อนแรง')\n",
      "(25, 'General', 'ทั่วไป', 'รู้สึกไร้ค่า')\n",
      "(26, 'General', 'ทั่วไป', 'ร้อนวูบวาบ')\n",
      "(27, 'General', 'ทั่วไป', 'วูบ หมดสติชั่วขณะ')\n",
      "(28, 'General', 'ทั่วไป', 'วูบ หมดสติชั่วขณะเดินเซ')\n",
      "(29, 'General', 'ทั่วไป', 'อุจจาระลำเล็กลง')\n",
      "(30, 'General', 'ทั่วไป', 'เจ็บหน้าอก')\n",
      "(31, 'General', 'ทั่วไป', 'เดินเซ')\n",
      "(32, 'General', 'ทั่วไป', 'เรอเปรี้ยว')\n",
      "(33, 'General', 'ทั่วไป', 'เลือดกำเดาไหล')\n",
      "(34, 'General', 'ทั่วไป', 'เสียงแหบ')\n",
      "(35, 'General', 'ทั่วไป', 'เหนื่อย')\n",
      "(36, 'General', 'ทั่วไป', 'แขนอ่อนแรง')\n",
      "(37, 'Ache', 'อาการปวด', 'ปวดกระดูก')\n",
      "(38, 'Ache', 'อาการปวด', 'ปวดกระบอกตา')\n",
      "(39, 'Ache', 'อาการปวด', 'ปวดกระบอกตาปวดหัว')\n",
      "(40, 'Ache', 'อาการปวด', 'ปวดกราม')\n",
      "(41, 'Ache', 'อาการปวด', 'ปวดขมับ')\n",
      "(42, 'Ache', 'อาการปวด', 'ปวดขา')\n",
      "(43, 'Ache', 'อาการปวด', 'ปวดข้อ')\n",
      "(44, 'Ache', 'อาการปวด', 'ปวดข้อนิ้วมือ')\n",
      "(45, 'Ache', 'อาการปวด', 'ปวดข้อนิ้วเท้า')\n",
      "(46, 'Ache', 'อาการปวด', 'ปวดข้อมือ')\n",
      "(47, 'Ache', 'อาการปวด', 'ปวดข้อศอก')\n",
      "(48, 'Ache', 'อาการปวด', 'ปวดข้อเท้า')\n",
      "(49, 'Ache', 'อาการปวด', 'ปวดคอ')\n",
      "(50, 'Ache', 'อาการปวด', 'ปวดคอปวดหัวไหล่')\n"
     ]
    }
   ],
   "source": [
    "import sqlite3\n",
    "\n",
    "conn = sqlite3.connect(\"symptoms.db\")\n",
    "cursor = conn.cursor()\n",
    "\n",
    "cursor.execute(\"SELECT * FROM symptoms\")\n",
    "rows = cursor.fetchall()\n",
    "\n",
    "for row in rows[:50]:  # show first 50\n",
    "    print(row)"
   ]
  },
  {
   "cell_type": "code",
   "execution_count": 14,
   "id": "53f3e729",
   "metadata": {},
   "outputs": [
    {
     "ename": "ProgrammingError",
     "evalue": "Cannot operate on a closed database.",
     "output_type": "error",
     "traceback": [
      "\u001b[31m---------------------------------------------------------------------------\u001b[39m",
      "\u001b[31mProgrammingError\u001b[39m                          Traceback (most recent call last)",
      "\u001b[36mCell\u001b[39m\u001b[36m \u001b[39m\u001b[32mIn[14]\u001b[39m\u001b[32m, line 3\u001b[39m\n\u001b[32m      1\u001b[39m \u001b[38;5;66;03m# fetch all rows\u001b[39;00m\n\u001b[32m      2\u001b[39m \u001b[38;5;66;03m# cursor.execute(\"SELECT category, symptom FROM symptoms ORDER BY category, symptom\")\u001b[39;00m\n\u001b[32m----> \u001b[39m\u001b[32m3\u001b[39m \u001b[43mcursor\u001b[49m\u001b[43m.\u001b[49m\u001b[43mexecute\u001b[49m\u001b[43m(\u001b[49m\u001b[33;43m\"\u001b[39;49m\u001b[33;43mSELECT category_en, category_th, symptom FROM symptoms ORDER BY category, symptom\u001b[39;49m\u001b[33;43m\"\u001b[39;49m\u001b[43m)\u001b[49m\n\u001b[32m      4\u001b[39m rows = cursor.fetchall()\n\u001b[32m      5\u001b[39m conn.close()\n",
      "\u001b[31mProgrammingError\u001b[39m: Cannot operate on a closed database."
     ]
    }
   ],
   "source": [
    "# fetch all rows\n",
    "# cursor.execute(\"SELECT category, symptom FROM symptoms ORDER BY category, symptom\")\n",
    "cursor.execute(\"SELECT category_en, category_th, symptom FROM symptoms ORDER BY category, symptom\")\n",
    "rows = cursor.fetchall()\n",
    "conn.close()\n",
    "\n",
    "# group by category\n",
    "grouped = defaultdict(list)\n",
    "for category, symptom in rows:\n",
    "    grouped[category_en].append(symptom)\n",
    "\n",
    "# print results (one line per category)\n",
    "for cat, symptoms in grouped.items():\n",
    "    symptom_line = \", \".join(symptoms)\n",
    "    print(f\"{cat} ({len(symptoms)}): {symptom_line}\")\n"
   ]
  },
  {
   "cell_type": "code",
   "execution_count": null,
   "id": "6ca78493",
   "metadata": {},
   "outputs": [],
   "source": []
  }
 ],
 "metadata": {
  "kernelspec": {
   "display_name": "Python 3",
   "language": "python",
   "name": "python3"
  },
  "language_info": {
   "codemirror_mode": {
    "name": "ipython",
    "version": 3
   },
   "file_extension": ".py",
   "mimetype": "text/x-python",
   "name": "python",
   "nbconvert_exporter": "python",
   "pygments_lexer": "ipython3",
   "version": "3.13.5"
  }
 },
 "nbformat": 4,
 "nbformat_minor": 5
}
